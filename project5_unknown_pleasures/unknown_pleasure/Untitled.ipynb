{
 "cells": [
  {
   "cell_type": "code",
   "execution_count": 1,
   "metadata": {},
   "outputs": [],
   "source": [
    "import sys\n",
    "import random\n",
    "import numpy as np\n",
    "import matplotlib.pyplot as plt\n",
    "import matplotlib.image as mpimg\n",
    "from matplotlib.widgets import Slider, Button, TextBox\n",
    "from scipy.ndimage import gaussian_filter\n",
    "from skimage import morphology\n",
    "from skimage.draw import line\n",
    "from skimage.transform import resize"
   ]
  },
  {
   "cell_type": "markdown",
   "metadata": {},
   "source": [
    "# \"Usage: python3 main.py image.png\"\n"
   ]
  },
  {
   "cell_type": "code",
   "execution_count": 2,
   "metadata": {},
   "outputs": [],
   "source": [
    "# #############\n",
    "# PARAMETERS #\n",
    "# #############\n",
    "\n",
    "IMAGE_PATH = r'C:\\py_art_me\\project5_unknown_pleasures\\unknown_pleasure\\images\\test2.png'\n",
    "\n",
    "UPERSAMPLE = 2\n",
    "\n",
    "horizontalsize = 500\n",
    "verticalsize = 500\n",
    "horizontalpad = 50\n",
    "verticalpad = 50\n",
    "thickness = 1\n",
    "lines = 40\n",
    "noise = 5\n",
    "offsetscale = 5\n",
    "sourceblur = 5\n",
    "randomfrequency = 0.3"
   ]
  },
  {
   "cell_type": "code",
   "execution_count": 4,
   "metadata": {},
   "outputs": [
    {
     "data": {
      "image/png": "[encoded data removed]",
      "text/plain": [
       "<Figure size 432x288 with 1 Axes>"
      ]
     },
     "metadata": {
      "needs_background": "light"
     },
     "output_type": "display_data"
    }
   ],
   "source": [
    "# Load source image as greyscale (just red channel)\n",
    "originalsource = mpimg.imread(IMAGE_PATH)\n",
    "fig = plt.figure()\n",
    "ax = plt.subplot()\n",
    "fig.subplots_adjust(bottom=0.5)\n",
    "im = np.zeros((verticalsize + verticalpad * 2, horizontalsize + horizontalpad * 2))\n",
    "im_ax = ax.imshow(im, cmap='gray', interpolation='bicubic', vmin=0, vmax=1.0)"
   ]
  },
  {
   "cell_type": "code",
   "execution_count": null,
   "metadata": {},
   "outputs": [],
   "source": [
    "######################################################\n",
    "#                NOISE FUNCTION:                     #\n",
    "# I tuned this by eye to resemble the original album #\n",
    "# cover, might not be the best for other data        #\n",
    "######################################################"
   ]
  }
 ],
 "metadata": {
  "kernelspec": {
   "display_name": "Python 3",
   "language": "python",
   "name": "python3"
  },
  "language_info": {
   "codemirror_mode": {
    "name": "ipython",
    "version": 3
   },
   "file_extension": ".py",
   "mimetype": "text/x-python",
   "name": "python",
   "nbconvert_exporter": "python",
   "pygments_lexer": "ipython3",
   "version": "3.7.3"
  }
 },
 "nbformat": 4,
 "nbformat_minor": 2
}
